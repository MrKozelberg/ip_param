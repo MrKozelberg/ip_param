{
 "cells": [
  {
   "cell_type": "markdown",
   "id": "fd1569a2-b778-4e22-906d-c73cfab2b14f",
   "metadata": {},
   "source": [
    "# Imports"
   ]
  },
  {
   "cell_type": "code",
   "execution_count": 3,
   "id": "55a493c9-ce27-41d3-bc2f-b73b1afe3275",
   "metadata": {},
   "outputs": [],
   "source": [
    "## Work with arrays\n",
    "import numpy as np\n",
    "import pandas as pd\n",
    "from scipy.stats import bootstrap\n",
    "\n",
    "## Make figures\n",
    "import matplotlib.pyplot as plt\n",
    "from matplotlib.colors import ListedColormap, LinearSegmentedColormap\n",
    "import matplotlib as mpl\n",
    "from matplotlib import cm\n",
    "import seaborn as sns\n",
    "import geocat.viz as gv\n",
    "import cmaps\n",
    "\n",
    "## Draw maps\n",
    "import cartopy.crs as ccrs\n",
    "import cartopy.feature as cf\n",
    "from cartopy.mpl.ticker import LongitudeFormatter, LatitudeFormatter\n",
    "from cartopy.mpl.ticker import LatitudeLocator, LongitudeLocator\n",
    "\n",
    "## From binary to float\n",
    "import struct\n",
    "from scipy.io import FortranFile\n",
    "\n",
    "## Work with datasets (netCDF4)\n",
    "import netCDF4 as nc\n",
    "import xarray as xr\n",
    "\n",
    "## Work with projections\n",
    "import pyproj\n",
    "\n",
    "## Interpolate\n",
    "from scipy.interpolate import NearestNDInterpolator, LinearNDInterpolator\n",
    "\n",
    "## OS\n",
    "import os.path\n",
    "\n",
    "## Work with Dates\n",
    "import datetime as dt\n",
    "import calendar"
   ]
  },
  {
   "cell_type": "markdown",
   "id": "b4eae621-cd3e-4010-a6a2-ff7d66fe8834",
   "metadata": {},
   "source": [
    "# Open data sets"
   ]
  },
  {
   "cell_type": "code",
   "execution_count": 12,
   "id": "8d2c63ca-1216-4d07-b771-7b6b4e4eae6f",
   "metadata": {},
   "outputs": [],
   "source": [
    "PATH = \"/media/alexander/F6B4C17DB4C1413B/data/ecmwf-era5/conv/\"\n",
    "\n",
    "FN_CAPE = \"66f8f00c3125e0c6a38ce44b9628b5d1.grib\"\n",
    "FN_TP = \"edee7f8744f81f3f9c3fe20eb7eb9e4b.grib\"\n",
    "FN_TCRW = \"84d4b06fa560f307cfcc4b279da0ad05.grib\""
   ]
  },
  {
   "cell_type": "code",
   "execution_count": 13,
   "id": "1a6f97af-2922-4a5b-a65d-db9aed34a705",
   "metadata": {},
   "outputs": [],
   "source": [
    "ds_cape = xr.open_dataset(\n",
    "  PATH+FN_CAPE,\n",
    "  engine='cfgrib'\n",
    ")\n",
    "ds_tp = xr.open_dataset(\n",
    "  PATH+FN_TP,\n",
    "  engine='cfgrib'\n",
    ")\n",
    "ds_tcrw = xr.open_dataset(\n",
    "  PATH+FN_TCRW,\n",
    "  engine='cfgrib'\n",
    ")"
   ]
  },
  {
   "cell_type": "markdown",
   "id": "4bcd7384-b16b-46cf-9c73-c90d88a5705b",
   "metadata": {},
   "source": [
    "# Time"
   ]
  },
  {
   "cell_type": "code",
   "execution_count": 44,
   "id": "cb5281da-7e59-48e4-b72c-715ed190677e",
   "metadata": {},
   "outputs": [
    {
     "data": {
      "text/plain": [
       "time\n",
       "2016-01-01 00:00:00   2016-01-01 00:00:00\n",
       "2016-01-01 01:00:00   2016-01-01 01:00:00\n",
       "2016-01-01 02:00:00   2016-01-01 02:00:00\n",
       "2016-01-01 03:00:00   2016-01-01 03:00:00\n",
       "2016-01-01 04:00:00   2016-01-01 04:00:00\n",
       "                              ...        \n",
       "2016-12-31 19:00:00   2016-12-31 19:00:00\n",
       "2016-12-31 20:00:00   2016-12-31 20:00:00\n",
       "2016-12-31 21:00:00   2016-12-31 21:00:00\n",
       "2016-12-31 22:00:00   2016-12-31 22:00:00\n",
       "2016-12-31 23:00:00   2016-12-31 23:00:00\n",
       "Name: time, Length: 3048, dtype: datetime64[ns]"
      ]
     },
     "execution_count": 44,
     "metadata": {},
     "output_type": "execute_result"
    }
   ],
   "source": [
    "time = ds_cape.time.to_dataframe()['time']\n",
    "time"
   ]
  },
  {
   "cell_type": "code",
   "execution_count": 48,
   "id": "1c8bef02-ff58-421f-80a6-49cb51727c4c",
   "metadata": {},
   "outputs": [
    {
     "data": {
      "text/plain": [
       "3048"
      ]
     },
     "execution_count": 48,
     "metadata": {},
     "output_type": "execute_result"
    }
   ],
   "source": [
    "len(time)"
   ]
  },
  {
   "cell_type": "code",
   "execution_count": 56,
   "id": "2ea04e7d-6815-44f2-b8ea-a413c0e3755e",
   "metadata": {},
   "outputs": [
    {
     "data": {
      "text/plain": [
       "Frozen({'time': 3048, 'latitude': 721, 'longitude': 1440})"
      ]
     },
     "execution_count": 56,
     "metadata": {},
     "output_type": "execute_result"
    }
   ],
   "source": [
    "ds_tcrw.sizes"
   ]
  },
  {
   "cell_type": "code",
   "execution_count": 64,
   "id": "e6e85eeb-66e2-4920-8e5f-897877ee757c",
   "metadata": {},
   "outputs": [
    {
     "data": {
      "text/plain": [
       "4500"
      ]
     },
     "execution_count": 64,
     "metadata": {},
     "output_type": "execute_result"
    }
   ],
   "source": [
    "375 * 12"
   ]
  },
  {
   "cell_type": "code",
   "execution_count": 66,
   "id": "c7e2fab0-cda6-47d0-9423-de26f4aa38cc",
   "metadata": {},
   "outputs": [
    {
     "data": {
      "text/html": [
       "<div><svg style=\"position: absolute; width: 0; height: 0; overflow: hidden\">\n",
       "<defs>\n",
       "<symbol id=\"icon-database\" viewBox=\"0 0 32 32\">\n",
       "<path d=\"M16 0c-8.837 0-16 2.239-16 5v4c0 2.761 7.163 5 16 5s16-2.239 16-5v-4c0-2.761-7.163-5-16-5z\"></path>\n",
       "<path d=\"M16 17c-8.837 0-16-2.239-16-5v6c0 2.761 7.163 5 16 5s16-2.239 16-5v-6c0 2.761-7.163 5-16 5z\"></path>\n",
       "<path d=\"M16 26c-8.837 0-16-2.239-16-5v6c0 2.761 7.163 5 16 5s16-2.239 16-5v-6c0 2.761-7.163 5-16 5z\"></path>\n",
       "</symbol>\n",
       "<symbol id=\"icon-file-text2\" viewBox=\"0 0 32 32\">\n",
       "<path d=\"M28.681 7.159c-0.694-0.947-1.662-2.053-2.724-3.116s-2.169-2.030-3.116-2.724c-1.612-1.182-2.393-1.319-2.841-1.319h-15.5c-1.378 0-2.5 1.121-2.5 2.5v27c0 1.378 1.122 2.5 2.5 2.5h23c1.378 0 2.5-1.122 2.5-2.5v-19.5c0-0.448-0.137-1.23-1.319-2.841zM24.543 5.457c0.959 0.959 1.712 1.825 2.268 2.543h-4.811v-4.811c0.718 0.556 1.584 1.309 2.543 2.268zM28 29.5c0 0.271-0.229 0.5-0.5 0.5h-23c-0.271 0-0.5-0.229-0.5-0.5v-27c0-0.271 0.229-0.5 0.5-0.5 0 0 15.499-0 15.5 0v7c0 0.552 0.448 1 1 1h7v19.5z\"></path>\n",
       "<path d=\"M23 26h-14c-0.552 0-1-0.448-1-1s0.448-1 1-1h14c0.552 0 1 0.448 1 1s-0.448 1-1 1z\"></path>\n",
       "<path d=\"M23 22h-14c-0.552 0-1-0.448-1-1s0.448-1 1-1h14c0.552 0 1 0.448 1 1s-0.448 1-1 1z\"></path>\n",
       "<path d=\"M23 18h-14c-0.552 0-1-0.448-1-1s0.448-1 1-1h14c0.552 0 1 0.448 1 1s-0.448 1-1 1z\"></path>\n",
       "</symbol>\n",
       "</defs>\n",
       "</svg>\n",
       "<style>/* CSS stylesheet for displaying xarray objects in jupyterlab.\n",
       " *\n",
       " */\n",
       "\n",
       ":root {\n",
       "  --xr-font-color0: var(--jp-content-font-color0, rgba(0, 0, 0, 1));\n",
       "  --xr-font-color2: var(--jp-content-font-color2, rgba(0, 0, 0, 0.54));\n",
       "  --xr-font-color3: var(--jp-content-font-color3, rgba(0, 0, 0, 0.38));\n",
       "  --xr-border-color: var(--jp-border-color2, #e0e0e0);\n",
       "  --xr-disabled-color: var(--jp-layout-color3, #bdbdbd);\n",
       "  --xr-background-color: var(--jp-layout-color0, white);\n",
       "  --xr-background-color-row-even: var(--jp-layout-color1, white);\n",
       "  --xr-background-color-row-odd: var(--jp-layout-color2, #eeeeee);\n",
       "}\n",
       "\n",
       "html[theme=dark],\n",
       "body[data-theme=dark],\n",
       "body.vscode-dark {\n",
       "  --xr-font-color0: rgba(255, 255, 255, 1);\n",
       "  --xr-font-color2: rgba(255, 255, 255, 0.54);\n",
       "  --xr-font-color3: rgba(255, 255, 255, 0.38);\n",
       "  --xr-border-color: #1F1F1F;\n",
       "  --xr-disabled-color: #515151;\n",
       "  --xr-background-color: #111111;\n",
       "  --xr-background-color-row-even: #111111;\n",
       "  --xr-background-color-row-odd: #313131;\n",
       "}\n",
       "\n",
       ".xr-wrap {\n",
       "  display: block !important;\n",
       "  min-width: 300px;\n",
       "  max-width: 700px;\n",
       "}\n",
       "\n",
       ".xr-text-repr-fallback {\n",
       "  /* fallback to plain text repr when CSS is not injected (untrusted notebook) */\n",
       "  display: none;\n",
       "}\n",
       "\n",
       ".xr-header {\n",
       "  padding-top: 6px;\n",
       "  padding-bottom: 6px;\n",
       "  margin-bottom: 4px;\n",
       "  border-bottom: solid 1px var(--xr-border-color);\n",
       "}\n",
       "\n",
       ".xr-header > div,\n",
       ".xr-header > ul {\n",
       "  display: inline;\n",
       "  margin-top: 0;\n",
       "  margin-bottom: 0;\n",
       "}\n",
       "\n",
       ".xr-obj-type,\n",
       ".xr-array-name {\n",
       "  margin-left: 2px;\n",
       "  margin-right: 10px;\n",
       "}\n",
       "\n",
       ".xr-obj-type {\n",
       "  color: var(--xr-font-color2);\n",
       "}\n",
       "\n",
       ".xr-sections {\n",
       "  padding-left: 0 !important;\n",
       "  display: grid;\n",
       "  grid-template-columns: 150px auto auto 1fr 20px 20px;\n",
       "}\n",
       "\n",
       ".xr-section-item {\n",
       "  display: contents;\n",
       "}\n",
       "\n",
       ".xr-section-item input {\n",
       "  display: none;\n",
       "}\n",
       "\n",
       ".xr-section-item input + label {\n",
       "  color: var(--xr-disabled-color);\n",
       "}\n",
       "\n",
       ".xr-section-item input:enabled + label {\n",
       "  cursor: pointer;\n",
       "  color: var(--xr-font-color2);\n",
       "}\n",
       "\n",
       ".xr-section-item input:enabled + label:hover {\n",
       "  color: var(--xr-font-color0);\n",
       "}\n",
       "\n",
       ".xr-section-summary {\n",
       "  grid-column: 1;\n",
       "  color: var(--xr-font-color2);\n",
       "  font-weight: 500;\n",
       "}\n",
       "\n",
       ".xr-section-summary > span {\n",
       "  display: inline-block;\n",
       "  padding-left: 0.5em;\n",
       "}\n",
       "\n",
       ".xr-section-summary-in:disabled + label {\n",
       "  color: var(--xr-font-color2);\n",
       "}\n",
       "\n",
       ".xr-section-summary-in + label:before {\n",
       "  display: inline-block;\n",
       "  content: '►';\n",
       "  font-size: 11px;\n",
       "  width: 15px;\n",
       "  text-align: center;\n",
       "}\n",
       "\n",
       ".xr-section-summary-in:disabled + label:before {\n",
       "  color: var(--xr-disabled-color);\n",
       "}\n",
       "\n",
       ".xr-section-summary-in:checked + label:before {\n",
       "  content: '▼';\n",
       "}\n",
       "\n",
       ".xr-section-summary-in:checked + label > span {\n",
       "  display: none;\n",
       "}\n",
       "\n",
       ".xr-section-summary,\n",
       ".xr-section-inline-details {\n",
       "  padding-top: 4px;\n",
       "  padding-bottom: 4px;\n",
       "}\n",
       "\n",
       ".xr-section-inline-details {\n",
       "  grid-column: 2 / -1;\n",
       "}\n",
       "\n",
       ".xr-section-details {\n",
       "  display: none;\n",
       "  grid-column: 1 / -1;\n",
       "  margin-bottom: 5px;\n",
       "}\n",
       "\n",
       ".xr-section-summary-in:checked ~ .xr-section-details {\n",
       "  display: contents;\n",
       "}\n",
       "\n",
       ".xr-array-wrap {\n",
       "  grid-column: 1 / -1;\n",
       "  display: grid;\n",
       "  grid-template-columns: 20px auto;\n",
       "}\n",
       "\n",
       ".xr-array-wrap > label {\n",
       "  grid-column: 1;\n",
       "  vertical-align: top;\n",
       "}\n",
       "\n",
       ".xr-preview {\n",
       "  color: var(--xr-font-color3);\n",
       "}\n",
       "\n",
       ".xr-array-preview,\n",
       ".xr-array-data {\n",
       "  padding: 0 5px !important;\n",
       "  grid-column: 2;\n",
       "}\n",
       "\n",
       ".xr-array-data,\n",
       ".xr-array-in:checked ~ .xr-array-preview {\n",
       "  display: none;\n",
       "}\n",
       "\n",
       ".xr-array-in:checked ~ .xr-array-data,\n",
       ".xr-array-preview {\n",
       "  display: inline-block;\n",
       "}\n",
       "\n",
       ".xr-dim-list {\n",
       "  display: inline-block !important;\n",
       "  list-style: none;\n",
       "  padding: 0 !important;\n",
       "  margin: 0;\n",
       "}\n",
       "\n",
       ".xr-dim-list li {\n",
       "  display: inline-block;\n",
       "  padding: 0;\n",
       "  margin: 0;\n",
       "}\n",
       "\n",
       ".xr-dim-list:before {\n",
       "  content: '(';\n",
       "}\n",
       "\n",
       ".xr-dim-list:after {\n",
       "  content: ')';\n",
       "}\n",
       "\n",
       ".xr-dim-list li:not(:last-child):after {\n",
       "  content: ',';\n",
       "  padding-right: 5px;\n",
       "}\n",
       "\n",
       ".xr-has-index {\n",
       "  font-weight: bold;\n",
       "}\n",
       "\n",
       ".xr-var-list,\n",
       ".xr-var-item {\n",
       "  display: contents;\n",
       "}\n",
       "\n",
       ".xr-var-item > div,\n",
       ".xr-var-item label,\n",
       ".xr-var-item > .xr-var-name span {\n",
       "  background-color: var(--xr-background-color-row-even);\n",
       "  margin-bottom: 0;\n",
       "}\n",
       "\n",
       ".xr-var-item > .xr-var-name:hover span {\n",
       "  padding-right: 5px;\n",
       "}\n",
       "\n",
       ".xr-var-list > li:nth-child(odd) > div,\n",
       ".xr-var-list > li:nth-child(odd) > label,\n",
       ".xr-var-list > li:nth-child(odd) > .xr-var-name span {\n",
       "  background-color: var(--xr-background-color-row-odd);\n",
       "}\n",
       "\n",
       ".xr-var-name {\n",
       "  grid-column: 1;\n",
       "}\n",
       "\n",
       ".xr-var-dims {\n",
       "  grid-column: 2;\n",
       "}\n",
       "\n",
       ".xr-var-dtype {\n",
       "  grid-column: 3;\n",
       "  text-align: right;\n",
       "  color: var(--xr-font-color2);\n",
       "}\n",
       "\n",
       ".xr-var-preview {\n",
       "  grid-column: 4;\n",
       "}\n",
       "\n",
       ".xr-index-preview {\n",
       "  grid-column: 2 / 5;\n",
       "  color: var(--xr-font-color2);\n",
       "}\n",
       "\n",
       ".xr-var-name,\n",
       ".xr-var-dims,\n",
       ".xr-var-dtype,\n",
       ".xr-preview,\n",
       ".xr-attrs dt {\n",
       "  white-space: nowrap;\n",
       "  overflow: hidden;\n",
       "  text-overflow: ellipsis;\n",
       "  padding-right: 10px;\n",
       "}\n",
       "\n",
       ".xr-var-name:hover,\n",
       ".xr-var-dims:hover,\n",
       ".xr-var-dtype:hover,\n",
       ".xr-attrs dt:hover {\n",
       "  overflow: visible;\n",
       "  width: auto;\n",
       "  z-index: 1;\n",
       "}\n",
       "\n",
       ".xr-var-attrs,\n",
       ".xr-var-data,\n",
       ".xr-index-data {\n",
       "  display: none;\n",
       "  background-color: var(--xr-background-color) !important;\n",
       "  padding-bottom: 5px !important;\n",
       "}\n",
       "\n",
       ".xr-var-attrs-in:checked ~ .xr-var-attrs,\n",
       ".xr-var-data-in:checked ~ .xr-var-data,\n",
       ".xr-index-data-in:checked ~ .xr-index-data {\n",
       "  display: block;\n",
       "}\n",
       "\n",
       ".xr-var-data > table {\n",
       "  float: right;\n",
       "}\n",
       "\n",
       ".xr-var-name span,\n",
       ".xr-var-data,\n",
       ".xr-index-name div,\n",
       ".xr-index-data,\n",
       ".xr-attrs {\n",
       "  padding-left: 25px !important;\n",
       "}\n",
       "\n",
       ".xr-attrs,\n",
       ".xr-var-attrs,\n",
       ".xr-var-data,\n",
       ".xr-index-data {\n",
       "  grid-column: 1 / -1;\n",
       "}\n",
       "\n",
       "dl.xr-attrs {\n",
       "  padding: 0;\n",
       "  margin: 0;\n",
       "  display: grid;\n",
       "  grid-template-columns: 125px auto;\n",
       "}\n",
       "\n",
       ".xr-attrs dt,\n",
       ".xr-attrs dd {\n",
       "  padding: 0;\n",
       "  margin: 0;\n",
       "  float: left;\n",
       "  padding-right: 10px;\n",
       "  width: auto;\n",
       "}\n",
       "\n",
       ".xr-attrs dt {\n",
       "  font-weight: normal;\n",
       "  grid-column: 1;\n",
       "}\n",
       "\n",
       ".xr-attrs dt:hover span {\n",
       "  display: inline-block;\n",
       "  background: var(--xr-background-color);\n",
       "  padding-right: 10px;\n",
       "}\n",
       "\n",
       ".xr-attrs dd {\n",
       "  grid-column: 2;\n",
       "  white-space: pre-wrap;\n",
       "  word-break: break-all;\n",
       "}\n",
       "\n",
       ".xr-icon-database,\n",
       ".xr-icon-file-text2,\n",
       ".xr-no-icon {\n",
       "  display: inline-block;\n",
       "  vertical-align: middle;\n",
       "  width: 1em;\n",
       "  height: 1.5em !important;\n",
       "  stroke-width: 0;\n",
       "  stroke: currentColor;\n",
       "  fill: currentColor;\n",
       "}\n",
       "</style><pre class='xr-text-repr-fallback'>&lt;xarray.DataArray &#x27;time&#x27; (time: 16)&gt; Size: 128B\n",
       "array([&#x27;2015-12-31T18:00:00.000000000&#x27;, &#x27;2016-01-01T06:00:00.000000000&#x27;,\n",
       "       &#x27;2016-01-01T18:00:00.000000000&#x27;, &#x27;2016-01-03T18:00:00.000000000&#x27;,\n",
       "       &#x27;2016-01-04T06:00:00.000000000&#x27;, &#x27;2016-01-04T18:00:00.000000000&#x27;,\n",
       "       &#x27;2016-01-06T18:00:00.000000000&#x27;, &#x27;2016-01-07T06:00:00.000000000&#x27;,\n",
       "       &#x27;2016-01-07T18:00:00.000000000&#x27;, &#x27;2016-01-09T18:00:00.000000000&#x27;,\n",
       "       &#x27;2016-01-10T06:00:00.000000000&#x27;, &#x27;2016-01-10T18:00:00.000000000&#x27;,\n",
       "       &#x27;2016-01-12T18:00:00.000000000&#x27;, &#x27;2016-01-13T06:00:00.000000000&#x27;,\n",
       "       &#x27;2016-01-13T18:00:00.000000000&#x27;, &#x27;2016-01-15T18:00:00.000000000&#x27;],\n",
       "      dtype=&#x27;datetime64[ns]&#x27;)\n",
       "Coordinates:\n",
       "    number   int64 8B ...\n",
       "  * time     (time) datetime64[ns] 128B 2015-12-31T18:00:00 ... 2016-01-15T18...\n",
       "    surface  float64 8B ...\n",
       "Attributes:\n",
       "    long_name:      initial time of forecast\n",
       "    standard_name:  forecast_reference_time</pre><div class='xr-wrap' style='display:none'><div class='xr-header'><div class='xr-obj-type'>xarray.DataArray</div><div class='xr-array-name'>'time'</div><ul class='xr-dim-list'><li><span class='xr-has-index'>time</span>: 16</li></ul></div><ul class='xr-sections'><li class='xr-section-item'><div class='xr-array-wrap'><input id='section-0effb2c9-dafb-4079-bd13-e6d9e904f2e2' class='xr-array-in' type='checkbox' checked><label for='section-0effb2c9-dafb-4079-bd13-e6d9e904f2e2' title='Show/hide data repr'><svg class='icon xr-icon-database'><use xlink:href='#icon-database'></use></svg></label><div class='xr-array-preview xr-preview'><span>2015-12-31T18:00:00 2016-01-01T06:00:00 ... 2016-01-15T18:00:00</span></div><div class='xr-array-data'><pre>array([&#x27;2015-12-31T18:00:00.000000000&#x27;, &#x27;2016-01-01T06:00:00.000000000&#x27;,\n",
       "       &#x27;2016-01-01T18:00:00.000000000&#x27;, &#x27;2016-01-03T18:00:00.000000000&#x27;,\n",
       "       &#x27;2016-01-04T06:00:00.000000000&#x27;, &#x27;2016-01-04T18:00:00.000000000&#x27;,\n",
       "       &#x27;2016-01-06T18:00:00.000000000&#x27;, &#x27;2016-01-07T06:00:00.000000000&#x27;,\n",
       "       &#x27;2016-01-07T18:00:00.000000000&#x27;, &#x27;2016-01-09T18:00:00.000000000&#x27;,\n",
       "       &#x27;2016-01-10T06:00:00.000000000&#x27;, &#x27;2016-01-10T18:00:00.000000000&#x27;,\n",
       "       &#x27;2016-01-12T18:00:00.000000000&#x27;, &#x27;2016-01-13T06:00:00.000000000&#x27;,\n",
       "       &#x27;2016-01-13T18:00:00.000000000&#x27;, &#x27;2016-01-15T18:00:00.000000000&#x27;],\n",
       "      dtype=&#x27;datetime64[ns]&#x27;)</pre></div></div></li><li class='xr-section-item'><input id='section-123e4874-bc80-4899-a8f5-b8df05111374' class='xr-section-summary-in' type='checkbox'  checked><label for='section-123e4874-bc80-4899-a8f5-b8df05111374' class='xr-section-summary' >Coordinates: <span>(3)</span></label><div class='xr-section-inline-details'></div><div class='xr-section-details'><ul class='xr-var-list'><li class='xr-var-item'><div class='xr-var-name'><span>number</span></div><div class='xr-var-dims'>()</div><div class='xr-var-dtype'>int64</div><div class='xr-var-preview xr-preview'>...</div><input id='attrs-ffaac674-1ae0-48dc-970e-7f82614094c3' class='xr-var-attrs-in' type='checkbox' ><label for='attrs-ffaac674-1ae0-48dc-970e-7f82614094c3' title='Show/Hide attributes'><svg class='icon xr-icon-file-text2'><use xlink:href='#icon-file-text2'></use></svg></label><input id='data-9fecdd5a-d368-451c-ba9b-e450f5321d63' class='xr-var-data-in' type='checkbox'><label for='data-9fecdd5a-d368-451c-ba9b-e450f5321d63' title='Show/Hide data repr'><svg class='icon xr-icon-database'><use xlink:href='#icon-database'></use></svg></label><div class='xr-var-attrs'><dl class='xr-attrs'><dt><span>long_name :</span></dt><dd>ensemble member numerical id</dd><dt><span>units :</span></dt><dd>1</dd><dt><span>standard_name :</span></dt><dd>realization</dd></dl></div><div class='xr-var-data'><pre>[1 values with dtype=int64]</pre></div></li><li class='xr-var-item'><div class='xr-var-name'><span class='xr-has-index'>time</span></div><div class='xr-var-dims'>(time)</div><div class='xr-var-dtype'>datetime64[ns]</div><div class='xr-var-preview xr-preview'>2015-12-31T18:00:00 ... 2016-01-...</div><input id='attrs-4d718461-5380-4b25-ab7c-f8c3aa606add' class='xr-var-attrs-in' type='checkbox' ><label for='attrs-4d718461-5380-4b25-ab7c-f8c3aa606add' title='Show/Hide attributes'><svg class='icon xr-icon-file-text2'><use xlink:href='#icon-file-text2'></use></svg></label><input id='data-054235b4-35d6-4d44-bc0f-abcd0c4fdfd8' class='xr-var-data-in' type='checkbox'><label for='data-054235b4-35d6-4d44-bc0f-abcd0c4fdfd8' title='Show/Hide data repr'><svg class='icon xr-icon-database'><use xlink:href='#icon-database'></use></svg></label><div class='xr-var-attrs'><dl class='xr-attrs'><dt><span>long_name :</span></dt><dd>initial time of forecast</dd><dt><span>standard_name :</span></dt><dd>forecast_reference_time</dd></dl></div><div class='xr-var-data'><pre>array([&#x27;2015-12-31T18:00:00.000000000&#x27;, &#x27;2016-01-01T06:00:00.000000000&#x27;,\n",
       "       &#x27;2016-01-01T18:00:00.000000000&#x27;, &#x27;2016-01-03T18:00:00.000000000&#x27;,\n",
       "       &#x27;2016-01-04T06:00:00.000000000&#x27;, &#x27;2016-01-04T18:00:00.000000000&#x27;,\n",
       "       &#x27;2016-01-06T18:00:00.000000000&#x27;, &#x27;2016-01-07T06:00:00.000000000&#x27;,\n",
       "       &#x27;2016-01-07T18:00:00.000000000&#x27;, &#x27;2016-01-09T18:00:00.000000000&#x27;,\n",
       "       &#x27;2016-01-10T06:00:00.000000000&#x27;, &#x27;2016-01-10T18:00:00.000000000&#x27;,\n",
       "       &#x27;2016-01-12T18:00:00.000000000&#x27;, &#x27;2016-01-13T06:00:00.000000000&#x27;,\n",
       "       &#x27;2016-01-13T18:00:00.000000000&#x27;, &#x27;2016-01-15T18:00:00.000000000&#x27;],\n",
       "      dtype=&#x27;datetime64[ns]&#x27;)</pre></div></li><li class='xr-var-item'><div class='xr-var-name'><span>surface</span></div><div class='xr-var-dims'>()</div><div class='xr-var-dtype'>float64</div><div class='xr-var-preview xr-preview'>...</div><input id='attrs-e4a778c6-1f52-4dfd-b24c-52616cb42256' class='xr-var-attrs-in' type='checkbox' ><label for='attrs-e4a778c6-1f52-4dfd-b24c-52616cb42256' title='Show/Hide attributes'><svg class='icon xr-icon-file-text2'><use xlink:href='#icon-file-text2'></use></svg></label><input id='data-3636be2c-9e2e-4f8b-adaa-6f9efd10cb1b' class='xr-var-data-in' type='checkbox'><label for='data-3636be2c-9e2e-4f8b-adaa-6f9efd10cb1b' title='Show/Hide data repr'><svg class='icon xr-icon-database'><use xlink:href='#icon-database'></use></svg></label><div class='xr-var-attrs'><dl class='xr-attrs'><dt><span>long_name :</span></dt><dd>original GRIB coordinate for key: level(surface)</dd><dt><span>units :</span></dt><dd>1</dd></dl></div><div class='xr-var-data'><pre>[1 values with dtype=float64]</pre></div></li></ul></div></li><li class='xr-section-item'><input id='section-f384dfb0-e719-43df-98b2-aa60f30a0614' class='xr-section-summary-in' type='checkbox'  ><label for='section-f384dfb0-e719-43df-98b2-aa60f30a0614' class='xr-section-summary' >Indexes: <span>(1)</span></label><div class='xr-section-inline-details'></div><div class='xr-section-details'><ul class='xr-var-list'><li class='xr-var-item'><div class='xr-index-name'><div>time</div></div><div class='xr-index-preview'>PandasIndex</div><div></div><input id='index-ce63b9d0-a464-40c3-acfc-bd2567258be0' class='xr-index-data-in' type='checkbox'/><label for='index-ce63b9d0-a464-40c3-acfc-bd2567258be0' title='Show/Hide index repr'><svg class='icon xr-icon-database'><use xlink:href='#icon-database'></use></svg></label><div class='xr-index-data'><pre>PandasIndex(DatetimeIndex([&#x27;2015-12-31 18:00:00&#x27;, &#x27;2016-01-01 06:00:00&#x27;,\n",
       "               &#x27;2016-01-01 18:00:00&#x27;, &#x27;2016-01-03 18:00:00&#x27;,\n",
       "               &#x27;2016-01-04 06:00:00&#x27;, &#x27;2016-01-04 18:00:00&#x27;,\n",
       "               &#x27;2016-01-06 18:00:00&#x27;, &#x27;2016-01-07 06:00:00&#x27;,\n",
       "               &#x27;2016-01-07 18:00:00&#x27;, &#x27;2016-01-09 18:00:00&#x27;,\n",
       "               &#x27;2016-01-10 06:00:00&#x27;, &#x27;2016-01-10 18:00:00&#x27;,\n",
       "               &#x27;2016-01-12 18:00:00&#x27;, &#x27;2016-01-13 06:00:00&#x27;,\n",
       "               &#x27;2016-01-13 18:00:00&#x27;, &#x27;2016-01-15 18:00:00&#x27;],\n",
       "              dtype=&#x27;datetime64[ns]&#x27;, name=&#x27;time&#x27;, freq=None))</pre></div></li></ul></div></li><li class='xr-section-item'><input id='section-1866802c-fcc7-42cf-8702-9ae37f10cd5f' class='xr-section-summary-in' type='checkbox'  checked><label for='section-1866802c-fcc7-42cf-8702-9ae37f10cd5f' class='xr-section-summary' >Attributes: <span>(2)</span></label><div class='xr-section-inline-details'></div><div class='xr-section-details'><dl class='xr-attrs'><dt><span>long_name :</span></dt><dd>initial time of forecast</dd><dt><span>standard_name :</span></dt><dd>forecast_reference_time</dd></dl></div></li></ul></div></div>"
      ],
      "text/plain": [
       "<xarray.DataArray 'time' (time: 16)> Size: 128B\n",
       "array(['2015-12-31T18:00:00.000000000', '2016-01-01T06:00:00.000000000',\n",
       "       '2016-01-01T18:00:00.000000000', '2016-01-03T18:00:00.000000000',\n",
       "       '2016-01-04T06:00:00.000000000', '2016-01-04T18:00:00.000000000',\n",
       "       '2016-01-06T18:00:00.000000000', '2016-01-07T06:00:00.000000000',\n",
       "       '2016-01-07T18:00:00.000000000', '2016-01-09T18:00:00.000000000',\n",
       "       '2016-01-10T06:00:00.000000000', '2016-01-10T18:00:00.000000000',\n",
       "       '2016-01-12T18:00:00.000000000', '2016-01-13T06:00:00.000000000',\n",
       "       '2016-01-13T18:00:00.000000000', '2016-01-15T18:00:00.000000000'],\n",
       "      dtype='datetime64[ns]')\n",
       "Coordinates:\n",
       "    number   int64 8B ...\n",
       "  * time     (time) datetime64[ns] 128B 2015-12-31T18:00:00 ... 2016-01-15T18...\n",
       "    surface  float64 8B ...\n",
       "Attributes:\n",
       "    long_name:      initial time of forecast\n",
       "    standard_name:  forecast_reference_time"
      ]
     },
     "execution_count": 66,
     "metadata": {},
     "output_type": "execute_result"
    }
   ],
   "source": [
    "ds_tp.time[:16]"
   ]
  },
  {
   "cell_type": "code",
   "execution_count": 67,
   "id": "3ce26611-c667-4072-a68c-cd28525d36a4",
   "metadata": {},
   "outputs": [
    {
     "data": {
      "text/plain": [
       "<matplotlib.image.AxesImage at 0x761fb7faa8f0>"
      ]
     },
     "execution_count": 67,
     "metadata": {},
     "output_type": "execute_result"
    },
    {
     "data": {
      "image/png": "[encoded data removed]",
      "text/plain": [
       "<Figure size 432x288 with 1 Axes>"
      ]
     },
     "metadata": {
      "needs_background": "light"
     },
     "output_type": "display_data"
    }
   ],
   "source": [
    "plt.imshow(ds_cape.cape[2000].to_numpy())"
   ]
  },
  {
   "cell_type": "code",
   "execution_count": 69,
   "id": "6d3c0ce4-68a7-4b9f-817e-14979f1edb67",
   "metadata": {},
   "outputs": [
    {
     "data": {
      "text/plain": [
       "Timestamp('2016-02-11 05:00:00')"
      ]
     },
     "execution_count": 69,
     "metadata": {},
     "output_type": "execute_result"
    }
   ],
   "source": [
    "time.iloc[365] - pd.Timedelta(days=2)"
   ]
  },
  {
   "cell_type": "code",
   "execution_count": null,
   "id": "ba195fe8-7a7c-4a17-9b39-501c3d994eca",
   "metadata": {},
   "outputs": [],
   "source": []
  },
  {
   "cell_type": "code",
   "execution_count": 60,
   "id": "785f368d-ed4c-4dbe-9f81-6f8ca8ff6419",
   "metadata": {},
   "outputs": [
    {
     "name": "stdout",
     "output_type": "stream",
     "text": [
      "(721, 1440)\n",
      "(12, 721, 1440)\n",
      "(721, 1440)\n"
     ]
    },
    {
     "name": "stderr",
     "output_type": "stream",
     "text": [
      "/tmp/ipykernel_495750/2902384987.py:22: RuntimeWarning: divide by zero encountered in divide\n",
      "  ip_contribs[h,d,:,:] = tp / tcrw * np.array(cape > CAPE_CRIT, dtype=float)\n",
      "/tmp/ipykernel_495750/2902384987.py:22: RuntimeWarning: invalid value encountered in divide\n",
      "  ip_contribs[h,d,:,:] = tp / tcrw * np.array(cape > CAPE_CRIT, dtype=float)\n",
      "/tmp/ipykernel_495750/2902384987.py:22: RuntimeWarning: invalid value encountered in multiply\n",
      "  ip_contribs[h,d,:,:] = tp / tcrw * np.array(cape > CAPE_CRIT, dtype=float)\n"
     ]
    },
    {
     "ename": "ValueError",
     "evalue": "could not broadcast input array from shape (12,721,1440) into shape (721,1440)",
     "output_type": "error",
     "traceback": [
      "\u001b[0;31m---------------------------------------------------------------------------\u001b[0m",
      "\u001b[0;31mValueError\u001b[0m                                Traceback (most recent call last)",
      "\u001b[0;32m/tmp/ipykernel_495750/2902384987.py\u001b[0m in \u001b[0;36m<module>\u001b[0;34m\u001b[0m\n\u001b[1;32m     20\u001b[0m   \u001b[0mprint\u001b[0m\u001b[0;34m(\u001b[0m\u001b[0mtcrw\u001b[0m\u001b[0;34m.\u001b[0m\u001b[0mshape\u001b[0m\u001b[0;34m)\u001b[0m\u001b[0;34m\u001b[0m\u001b[0;34m\u001b[0m\u001b[0m\n\u001b[1;32m     21\u001b[0m \u001b[0;34m\u001b[0m\u001b[0m\n\u001b[0;32m---> 22\u001b[0;31m   \u001b[0mip_contribs\u001b[0m\u001b[0;34m[\u001b[0m\u001b[0mh\u001b[0m\u001b[0;34m,\u001b[0m\u001b[0md\u001b[0m\u001b[0;34m,\u001b[0m\u001b[0;34m:\u001b[0m\u001b[0;34m,\u001b[0m\u001b[0;34m:\u001b[0m\u001b[0;34m]\u001b[0m \u001b[0;34m=\u001b[0m \u001b[0mtp\u001b[0m \u001b[0;34m/\u001b[0m \u001b[0mtcrw\u001b[0m \u001b[0;34m*\u001b[0m \u001b[0mnp\u001b[0m\u001b[0;34m.\u001b[0m\u001b[0marray\u001b[0m\u001b[0;34m(\u001b[0m\u001b[0mcape\u001b[0m \u001b[0;34m>\u001b[0m \u001b[0mCAPE_CRIT\u001b[0m\u001b[0;34m,\u001b[0m \u001b[0mdtype\u001b[0m\u001b[0;34m=\u001b[0m\u001b[0mfloat\u001b[0m\u001b[0;34m)\u001b[0m\u001b[0;34m\u001b[0m\u001b[0;34m\u001b[0m\u001b[0m\n\u001b[0m\u001b[1;32m     23\u001b[0m \u001b[0;34m\u001b[0m\u001b[0m\n\u001b[1;32m     24\u001b[0m   \u001b[0;32mdel\u001b[0m \u001b[0mcape\u001b[0m\u001b[0;34m\u001b[0m\u001b[0;34m\u001b[0m\u001b[0m\n",
      "\u001b[0;31mValueError\u001b[0m: could not broadcast input array from shape (12,721,1440) into shape (721,1440)"
     ]
    }
   ],
   "source": [
    "CAPE_CRIT = 1000.0 # J / kg\n",
    "\n",
    "ip_contribs = np.zeros((\n",
    "  24,\n",
    "  ds_cape.sizes['time']//24,\n",
    "  ds_cape.sizes['latitude'],\n",
    "  ds_cape.sizes['longitude']\n",
    "))\n",
    "\n",
    "for i, t in enumerate(time):\n",
    "  h = i % 24\n",
    "  d = i // 24\n",
    "  \n",
    "  cape = ds_cape.cape[i].to_numpy()\n",
    "\n",
    "  tp_time = \n",
    "  \n",
    "  tp = ds_tp.tp[i].to_numpy()\n",
    "  tcrw = ds_tcrw.tcrw[i].to_numpy()\n",
    "\n",
    "  print(cape.shape)\n",
    "  print(tp.shape)\n",
    "  print(tcrw.shape)\n",
    "  \n",
    "  ip_contribs[h,d,:,:] = tp / tcrw * np.array(cape > CAPE_CRIT, dtype=float)\n",
    "\n",
    "  del cape\n",
    "  del tp\n",
    "  del tcrw\n",
    "\n",
    "  print(h,d)"
   ]
  },
  {
   "cell_type": "code",
   "execution_count": 47,
   "id": "2ee93f0a-c5e6-4517-ab24-36faf5b7ed9e",
   "metadata": {},
   "outputs": [
    {
     "data": {
      "text/plain": [
       "1"
      ]
     },
     "execution_count": 47,
     "metadata": {},
     "output_type": "execute_result"
    }
   ],
   "source": [
    "def compute_ip_contribs()"
   ]
  },
  {
   "cell_type": "code",
   "execution_count": null,
   "id": "879c33bd-9d95-4b4e-a344-82bcf9265123",
   "metadata": {},
   "outputs": [],
   "source": []
  },
  {
   "cell_type": "code",
   "execution_count": null,
   "id": "fdcc6b8c-2d18-4362-b3b7-c845ff9427e5",
   "metadata": {},
   "outputs": [],
   "source": []
  },
  {
   "cell_type": "code",
   "execution_count": null,
   "id": "bda501e2-0a3e-4826-9ceb-8ac79ff78f89",
   "metadata": {},
   "outputs": [],
   "source": []
  },
  {
   "cell_type": "code",
   "execution_count": null,
   "id": "a1545c9f-842b-4081-bb39-7ebc10b4f2b2",
   "metadata": {},
   "outputs": [],
   "source": []
  },
  {
   "cell_type": "code",
   "execution_count": null,
   "id": "3c5e11d3-412e-4058-8416-50fe79dc2d43",
   "metadata": {},
   "outputs": [],
   "source": []
  },
  {
   "cell_type": "code",
   "execution_count": null,
   "id": "c47c4b4a-be3d-432b-8282-1b1f5dbfb255",
   "metadata": {},
   "outputs": [],
   "source": []
  },
  {
   "cell_type": "code",
   "execution_count": null,
   "id": "96c48567-7ccc-4d1b-9870-1666d52764a1",
   "metadata": {},
   "outputs": [],
   "source": []
  },
  {
   "cell_type": "code",
   "execution_count": null,
   "id": "c2d2a513-b330-46a8-bc94-e89dd89ec9e1",
   "metadata": {},
   "outputs": [],
   "source": []
  },
  {
   "cell_type": "code",
   "execution_count": 11,
   "id": "0a765b8d-b7d1-4f5d-b0b6-19f0df6658ae",
   "metadata": {},
   "outputs": [],
   "source": [
    "ds_cape.close()\n",
    "ds_tp.close()\n",
    "ds_tcrw.close()"
   ]
  },
  {
   "cell_type": "code",
   "execution_count": null,
   "id": "d8cf6799-86b4-4320-9bd4-ba2d2fec7891",
   "metadata": {},
   "outputs": [],
   "source": []
  }
 ],
 "metadata": {
  "kernelspec": {
   "display_name": "Python 3 (ipykernel)",
   "language": "python",
   "name": "python3"
  },
  "language_info": {
   "codemirror_mode": {
    "name": "ipython",
    "version": 3
   },
   "file_extension": ".py",
   "mimetype": "text/x-python",
   "name": "python",
   "nbconvert_exporter": "python",
   "pygments_lexer": "ipython3",
   "version": "3.10.12"
  }
 },
 "nbformat": 4,
 "nbformat_minor": 5
}
